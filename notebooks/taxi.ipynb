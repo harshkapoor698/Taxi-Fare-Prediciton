{
 "cells": [
  {
   "cell_type": "code",
   "execution_count": 1,
   "id": "02b6f75f-5d0a-4611-8e94-a35558c99346",
   "metadata": {},
   "outputs": [],
   "source": [
    "import numpy as np \n",
    "import pandas as pd\n",
    "import seaborn as sns\n",
    "from sklearn.model_selection import train_test_split\n",
    "from sklearn.ensemble import RandomForestRegressor\n",
    "from sklearn.model_selection import GridSearchCV\n"
   ]
  },
  {
   "cell_type": "code",
   "execution_count": 2,
   "id": "613f7be2-e763-4a3f-b1ff-ba4f30307a12",
   "metadata": {},
   "outputs": [],
   "source": [
    "chunk_size = 100000  # or any value you want\n",
    "chunks = []\n",
    "\n",
    "use_cols = ['fare_amount', 'pickup_datetime', 'pickup_longitude', 'pickup_latitude',\n",
    "            'dropoff_longitude', 'dropoff_latitude', 'passenger_count']\n",
    "\n",
    "for chunk in pd.read_csv(r'C:\\Users\\himan\\OneDrive\\Desktop\\Taxi-Fare-Prediciton\\data\\taxi.csv', \n",
    "                         usecols=use_cols, chunksize=chunk_size):\n",
    "    chunks.append(chunk)\n",
    "    if len(chunks) >= 10:\n",
    "        break\n"
   ]
  },
  {
   "cell_type": "code",
   "execution_count": 3,
   "id": "f689dbe2-3cc0-42b2-8c35-b85569cd9de9",
   "metadata": {},
   "outputs": [
    {
     "name": "stdout",
     "output_type": "stream",
     "text": [
      "Loaded rows: 974995\n"
     ]
    },
    {
     "data": {
      "text/html": [
       "<div>\n",
       "<style scoped>\n",
       "    .dataframe tbody tr th:only-of-type {\n",
       "        vertical-align: middle;\n",
       "    }\n",
       "\n",
       "    .dataframe tbody tr th {\n",
       "        vertical-align: top;\n",
       "    }\n",
       "\n",
       "    .dataframe thead th {\n",
       "        text-align: right;\n",
       "    }\n",
       "</style>\n",
       "<table border=\"1\" class=\"dataframe\">\n",
       "  <thead>\n",
       "    <tr style=\"text-align: right;\">\n",
       "      <th></th>\n",
       "      <th>fare_amount</th>\n",
       "      <th>pickup_datetime</th>\n",
       "      <th>pickup_longitude</th>\n",
       "      <th>pickup_latitude</th>\n",
       "      <th>dropoff_longitude</th>\n",
       "      <th>dropoff_latitude</th>\n",
       "      <th>passenger_count</th>\n",
       "    </tr>\n",
       "  </thead>\n",
       "  <tbody>\n",
       "    <tr>\n",
       "      <th>0</th>\n",
       "      <td>4.5</td>\n",
       "      <td>2009-06-15 17:26:21+00:00</td>\n",
       "      <td>-73.844311</td>\n",
       "      <td>40.721319</td>\n",
       "      <td>-73.841610</td>\n",
       "      <td>40.712278</td>\n",
       "      <td>1</td>\n",
       "    </tr>\n",
       "    <tr>\n",
       "      <th>1</th>\n",
       "      <td>16.9</td>\n",
       "      <td>2010-01-05 16:52:16+00:00</td>\n",
       "      <td>-74.016048</td>\n",
       "      <td>40.711303</td>\n",
       "      <td>-73.979268</td>\n",
       "      <td>40.782004</td>\n",
       "      <td>1</td>\n",
       "    </tr>\n",
       "    <tr>\n",
       "      <th>2</th>\n",
       "      <td>5.7</td>\n",
       "      <td>2011-08-18 00:35:00+00:00</td>\n",
       "      <td>-73.982738</td>\n",
       "      <td>40.761270</td>\n",
       "      <td>-73.991242</td>\n",
       "      <td>40.750562</td>\n",
       "      <td>2</td>\n",
       "    </tr>\n",
       "    <tr>\n",
       "      <th>3</th>\n",
       "      <td>7.7</td>\n",
       "      <td>2012-04-21 04:30:42+00:00</td>\n",
       "      <td>-73.987130</td>\n",
       "      <td>40.733143</td>\n",
       "      <td>-73.991567</td>\n",
       "      <td>40.758092</td>\n",
       "      <td>1</td>\n",
       "    </tr>\n",
       "    <tr>\n",
       "      <th>4</th>\n",
       "      <td>5.3</td>\n",
       "      <td>2010-03-09 07:51:00+00:00</td>\n",
       "      <td>-73.968095</td>\n",
       "      <td>40.768008</td>\n",
       "      <td>-73.956655</td>\n",
       "      <td>40.783762</td>\n",
       "      <td>1</td>\n",
       "    </tr>\n",
       "  </tbody>\n",
       "</table>\n",
       "</div>"
      ],
      "text/plain": [
       "   fare_amount            pickup_datetime  pickup_longitude  pickup_latitude  \\\n",
       "0          4.5  2009-06-15 17:26:21+00:00        -73.844311        40.721319   \n",
       "1         16.9  2010-01-05 16:52:16+00:00        -74.016048        40.711303   \n",
       "2          5.7  2011-08-18 00:35:00+00:00        -73.982738        40.761270   \n",
       "3          7.7  2012-04-21 04:30:42+00:00        -73.987130        40.733143   \n",
       "4          5.3  2010-03-09 07:51:00+00:00        -73.968095        40.768008   \n",
       "\n",
       "   dropoff_longitude  dropoff_latitude  passenger_count  \n",
       "0         -73.841610         40.712278                1  \n",
       "1         -73.979268         40.782004                1  \n",
       "2         -73.991242         40.750562                2  \n",
       "3         -73.991567         40.758092                1  \n",
       "4         -73.956655         40.783762                1  "
      ]
     },
     "execution_count": 3,
     "metadata": {},
     "output_type": "execute_result"
    }
   ],
   "source": [
    "df = pd.concat(chunks, ignore_index=True)\n",
    "print(\"Loaded rows:\", df.shape[0])\n",
    "df.head()"
   ]
  },
  {
   "cell_type": "code",
   "execution_count": 4,
   "id": "d4218855-33ff-4da5-b3e3-0b38abc16917",
   "metadata": {},
   "outputs": [
    {
     "name": "stdout",
     "output_type": "stream",
     "text": [
      "<class 'pandas.core.frame.DataFrame'>\n",
      "RangeIndex: 974995 entries, 0 to 974994\n",
      "Data columns (total 7 columns):\n",
      " #   Column             Non-Null Count   Dtype  \n",
      "---  ------             --------------   -----  \n",
      " 0   fare_amount        974995 non-null  float64\n",
      " 1   pickup_datetime    974995 non-null  object \n",
      " 2   pickup_longitude   974995 non-null  float64\n",
      " 3   pickup_latitude    974995 non-null  float64\n",
      " 4   dropoff_longitude  974995 non-null  float64\n",
      " 5   dropoff_latitude   974995 non-null  float64\n",
      " 6   passenger_count    974995 non-null  int64  \n",
      "dtypes: float64(5), int64(1), object(1)\n",
      "memory usage: 52.1+ MB\n"
     ]
    },
    {
     "data": {
      "text/plain": [
       "fare_amount          0\n",
       "pickup_datetime      0\n",
       "pickup_longitude     0\n",
       "pickup_latitude      0\n",
       "dropoff_longitude    0\n",
       "dropoff_latitude     0\n",
       "passenger_count      0\n",
       "dtype: int64"
      ]
     },
     "execution_count": 4,
     "metadata": {},
     "output_type": "execute_result"
    }
   ],
   "source": [
    "df.shape\n",
    "df.info()\n",
    "df.describe()\n",
    "df.isna().sum()"
   ]
  },
  {
   "cell_type": "code",
   "execution_count": 5,
   "id": "e19b3c04-9189-4224-b7ad-2d1c83d9ddc3",
   "metadata": {},
   "outputs": [],
   "source": [
    "df.dropna(inplace=True) #removing null value by elimanting rows due to less null values"
   ]
  },
  {
   "cell_type": "markdown",
   "id": "2540d71f-17ac-4fc4-b688-335ea48846e5",
   "metadata": {},
   "source": [
    "We first convert the pickup_datetime column in the dataset (with columns fare_amount, pickup_datetime, pickup_longitude, pickup_latitude, dropoff_longitude, dropoff_latitude, passenger_count) to a datetime format using pd.to_datetime(), then clean the data by removing missing values, invalid entries (like negative fares or bad coordinates), and outliers to prepare it for analysis."
   ]
  },
  {
   "cell_type": "code",
   "execution_count": 7,
   "id": "16d47783-951b-41f1-bf16-4d491d175b3f",
   "metadata": {},
   "outputs": [],
   "source": [
    "df['pickup_datetime'] = pd.to_datetime(df['pickup_datetime'], errors='coerce')\n",
    "df = df.dropna(subset=['pickup_datetime']) # comvert datetime 2009-06-15 17:26:21 UTC to 2009-06-15 17:26:21+00:00\twhere invaild value convert into nat than removed"
   ]
  },
  {
   "cell_type": "code",
   "execution_count": 8,
   "id": "b238db1f-473a-4994-9bf1-d32ec83faf21",
   "metadata": {},
   "outputs": [
    {
     "data": {
      "text/html": [
       "<div>\n",
       "<style scoped>\n",
       "    .dataframe tbody tr th:only-of-type {\n",
       "        vertical-align: middle;\n",
       "    }\n",
       "\n",
       "    .dataframe tbody tr th {\n",
       "        vertical-align: top;\n",
       "    }\n",
       "\n",
       "    .dataframe thead th {\n",
       "        text-align: right;\n",
       "    }\n",
       "</style>\n",
       "<table border=\"1\" class=\"dataframe\">\n",
       "  <thead>\n",
       "    <tr style=\"text-align: right;\">\n",
       "      <th></th>\n",
       "      <th>fare_amount</th>\n",
       "      <th>pickup_datetime</th>\n",
       "      <th>pickup_longitude</th>\n",
       "      <th>pickup_latitude</th>\n",
       "      <th>dropoff_longitude</th>\n",
       "      <th>dropoff_latitude</th>\n",
       "      <th>passenger_count</th>\n",
       "    </tr>\n",
       "  </thead>\n",
       "  <tbody>\n",
       "    <tr>\n",
       "      <th>0</th>\n",
       "      <td>4.5</td>\n",
       "      <td>2009-06-15 17:26:21+00:00</td>\n",
       "      <td>-73.844311</td>\n",
       "      <td>40.721319</td>\n",
       "      <td>-73.841610</td>\n",
       "      <td>40.712278</td>\n",
       "      <td>1</td>\n",
       "    </tr>\n",
       "    <tr>\n",
       "      <th>1</th>\n",
       "      <td>16.9</td>\n",
       "      <td>2010-01-05 16:52:16+00:00</td>\n",
       "      <td>-74.016048</td>\n",
       "      <td>40.711303</td>\n",
       "      <td>-73.979268</td>\n",
       "      <td>40.782004</td>\n",
       "      <td>1</td>\n",
       "    </tr>\n",
       "    <tr>\n",
       "      <th>2</th>\n",
       "      <td>5.7</td>\n",
       "      <td>2011-08-18 00:35:00+00:00</td>\n",
       "      <td>-73.982738</td>\n",
       "      <td>40.761270</td>\n",
       "      <td>-73.991242</td>\n",
       "      <td>40.750562</td>\n",
       "      <td>2</td>\n",
       "    </tr>\n",
       "    <tr>\n",
       "      <th>3</th>\n",
       "      <td>7.7</td>\n",
       "      <td>2012-04-21 04:30:42+00:00</td>\n",
       "      <td>-73.987130</td>\n",
       "      <td>40.733143</td>\n",
       "      <td>-73.991567</td>\n",
       "      <td>40.758092</td>\n",
       "      <td>1</td>\n",
       "    </tr>\n",
       "    <tr>\n",
       "      <th>4</th>\n",
       "      <td>5.3</td>\n",
       "      <td>2010-03-09 07:51:00+00:00</td>\n",
       "      <td>-73.968095</td>\n",
       "      <td>40.768008</td>\n",
       "      <td>-73.956655</td>\n",
       "      <td>40.783762</td>\n",
       "      <td>1</td>\n",
       "    </tr>\n",
       "  </tbody>\n",
       "</table>\n",
       "</div>"
      ],
      "text/plain": [
       "   fare_amount           pickup_datetime  pickup_longitude  pickup_latitude  \\\n",
       "0          4.5 2009-06-15 17:26:21+00:00        -73.844311        40.721319   \n",
       "1         16.9 2010-01-05 16:52:16+00:00        -74.016048        40.711303   \n",
       "2          5.7 2011-08-18 00:35:00+00:00        -73.982738        40.761270   \n",
       "3          7.7 2012-04-21 04:30:42+00:00        -73.987130        40.733143   \n",
       "4          5.3 2010-03-09 07:51:00+00:00        -73.968095        40.768008   \n",
       "\n",
       "   dropoff_longitude  dropoff_latitude  passenger_count  \n",
       "0         -73.841610         40.712278                1  \n",
       "1         -73.979268         40.782004                1  \n",
       "2         -73.991242         40.750562                2  \n",
       "3         -73.991567         40.758092                1  \n",
       "4         -73.956655         40.783762                1  "
      ]
     },
     "execution_count": 8,
     "metadata": {},
     "output_type": "execute_result"
    }
   ],
   "source": [
    "df.head()"
   ]
  },
  {
   "cell_type": "code",
   "execution_count": 9,
   "id": "5ffb334f-b98a-4284-816a-725228a2e286",
   "metadata": {},
   "outputs": [
    {
     "data": {
      "text/plain": [
       "array([1, 2, 3, 6, 5, 4], dtype=int64)"
      ]
     },
     "execution_count": 9,
     "metadata": {},
     "output_type": "execute_result"
    }
   ],
   "source": [
    "df['passenger_count'].unique()"
   ]
  },
  {
   "cell_type": "code",
   "execution_count": 10,
   "id": "1086ab6c-c8f7-48a1-ba91-ece3f7c614b4",
   "metadata": {},
   "outputs": [],
   "source": [
    "df = df[(df['fare_amount'] > 0) & (df['passenger_count'] > 0) & (df['passenger_count'] <= 6)]"
   ]
  },
  {
   "cell_type": "code",
   "execution_count": 11,
   "id": "834f94f9-a0ef-46f6-89df-6cc3c91f43ee",
   "metadata": {},
   "outputs": [],
   "source": [
    "# Remove out-of-range  nyc lat/lon \n",
    "df = df[\n",
    "    (df['pickup_latitude'].between(40.5, 41)) &\n",
    "    (df['pickup_longitude'].between(-74.5, -73)) &\n",
    "    (df['dropoff_latitude'].between(40.5, 41)) &\n",
    "    (df['dropoff_longitude'].between(-74.5, -73))\n",
    "]\n"
   ]
  },
  {
   "cell_type": "code",
   "execution_count": 12,
   "id": "00b67101-9bb9-4a07-99ae-9e674646d625",
   "metadata": {},
   "outputs": [
    {
     "data": {
      "text/plain": [
       "(974995, 7)"
      ]
     },
     "execution_count": 12,
     "metadata": {},
     "output_type": "execute_result"
    }
   ],
   "source": [
    "df.shape"
   ]
  },
  {
   "cell_type": "code",
   "execution_count": 13,
   "id": "b2d255aa-ccc6-4bed-a128-47627289a244",
   "metadata": {},
   "outputs": [],
   "source": [
    "df.to_csv(r'C:\\Users\\himan\\OneDrive\\Desktop\\Taxi-Fare-Prediciton\\data\\clean.csv', index=False) # saving cleaned data"
   ]
  },
  {
   "cell_type": "code",
   "execution_count": 14,
   "id": "10c91ec4-0a1d-4679-badf-4465ae765657",
   "metadata": {},
   "outputs": [],
   "source": [
    "df = pd.read_csv(r'C:\\Users\\himan\\OneDrive\\Desktop\\Taxi-Fare-Prediciton\\data\\clean.csv')"
   ]
  },
  {
   "cell_type": "code",
   "execution_count": 15,
   "id": "3bd238f8-5eaa-4155-b369-e1b20e2f2b71",
   "metadata": {},
   "outputs": [
    {
     "data": {
      "text/html": [
       "<div>\n",
       "<style scoped>\n",
       "    .dataframe tbody tr th:only-of-type {\n",
       "        vertical-align: middle;\n",
       "    }\n",
       "\n",
       "    .dataframe tbody tr th {\n",
       "        vertical-align: top;\n",
       "    }\n",
       "\n",
       "    .dataframe thead th {\n",
       "        text-align: right;\n",
       "    }\n",
       "</style>\n",
       "<table border=\"1\" class=\"dataframe\">\n",
       "  <thead>\n",
       "    <tr style=\"text-align: right;\">\n",
       "      <th></th>\n",
       "      <th>fare_amount</th>\n",
       "      <th>pickup_datetime</th>\n",
       "      <th>pickup_longitude</th>\n",
       "      <th>pickup_latitude</th>\n",
       "      <th>dropoff_longitude</th>\n",
       "      <th>dropoff_latitude</th>\n",
       "      <th>passenger_count</th>\n",
       "    </tr>\n",
       "  </thead>\n",
       "  <tbody>\n",
       "    <tr>\n",
       "      <th>0</th>\n",
       "      <td>4.5</td>\n",
       "      <td>2009-06-15 17:26:21+00:00</td>\n",
       "      <td>-73.844311</td>\n",
       "      <td>40.721319</td>\n",
       "      <td>-73.841610</td>\n",
       "      <td>40.712278</td>\n",
       "      <td>1</td>\n",
       "    </tr>\n",
       "    <tr>\n",
       "      <th>1</th>\n",
       "      <td>16.9</td>\n",
       "      <td>2010-01-05 16:52:16+00:00</td>\n",
       "      <td>-74.016048</td>\n",
       "      <td>40.711303</td>\n",
       "      <td>-73.979268</td>\n",
       "      <td>40.782004</td>\n",
       "      <td>1</td>\n",
       "    </tr>\n",
       "    <tr>\n",
       "      <th>2</th>\n",
       "      <td>5.7</td>\n",
       "      <td>2011-08-18 00:35:00+00:00</td>\n",
       "      <td>-73.982738</td>\n",
       "      <td>40.761270</td>\n",
       "      <td>-73.991242</td>\n",
       "      <td>40.750562</td>\n",
       "      <td>2</td>\n",
       "    </tr>\n",
       "    <tr>\n",
       "      <th>3</th>\n",
       "      <td>7.7</td>\n",
       "      <td>2012-04-21 04:30:42+00:00</td>\n",
       "      <td>-73.987130</td>\n",
       "      <td>40.733143</td>\n",
       "      <td>-73.991567</td>\n",
       "      <td>40.758092</td>\n",
       "      <td>1</td>\n",
       "    </tr>\n",
       "    <tr>\n",
       "      <th>4</th>\n",
       "      <td>5.3</td>\n",
       "      <td>2010-03-09 07:51:00+00:00</td>\n",
       "      <td>-73.968095</td>\n",
       "      <td>40.768008</td>\n",
       "      <td>-73.956655</td>\n",
       "      <td>40.783762</td>\n",
       "      <td>1</td>\n",
       "    </tr>\n",
       "  </tbody>\n",
       "</table>\n",
       "</div>"
      ],
      "text/plain": [
       "   fare_amount            pickup_datetime  pickup_longitude  pickup_latitude  \\\n",
       "0          4.5  2009-06-15 17:26:21+00:00        -73.844311        40.721319   \n",
       "1         16.9  2010-01-05 16:52:16+00:00        -74.016048        40.711303   \n",
       "2          5.7  2011-08-18 00:35:00+00:00        -73.982738        40.761270   \n",
       "3          7.7  2012-04-21 04:30:42+00:00        -73.987130        40.733143   \n",
       "4          5.3  2010-03-09 07:51:00+00:00        -73.968095        40.768008   \n",
       "\n",
       "   dropoff_longitude  dropoff_latitude  passenger_count  \n",
       "0         -73.841610         40.712278                1  \n",
       "1         -73.979268         40.782004                1  \n",
       "2         -73.991242         40.750562                2  \n",
       "3         -73.991567         40.758092                1  \n",
       "4         -73.956655         40.783762                1  "
      ]
     },
     "execution_count": 15,
     "metadata": {},
     "output_type": "execute_result"
    }
   ],
   "source": [
    "df.head()"
   ]
  },
  {
   "cell_type": "code",
   "execution_count": 16,
   "id": "6a561957-a47c-4efa-82e9-d8efd340a357",
   "metadata": {},
   "outputs": [],
   "source": [
    "df['pickup_datetime'] = pd.to_datetime(df['pickup_datetime'])\n",
    "\n",
    "df['hour'] = df['pickup_datetime'].dt.hour\n",
    "df['day'] = df['pickup_datetime'].dt.day\n",
    "df['month'] = df['pickup_datetime'].dt.month\n",
    "df['day_of_week'] = df['pickup_datetime'].dt.dayofweek  # Monday = 0\n",
    "df['is_weekend'] = df['day_of_week'].isin([5, 6]).astype(int)"
   ]
  },
  {
   "cell_type": "code",
   "execution_count": 17,
   "id": "62c073b9-9ca6-4d7c-92df-3bcee1e74b5a",
   "metadata": {},
   "outputs": [],
   "source": [
    "def haversine_distance(lat1, lon1, lat2, lon2):\n",
    "    R = 6371  # Radius of Earth in kilometers\n",
    "    lat1, lon1, lat2, lon2 = map(np.radians, [lat1, lon1, lat2, lon2])\n",
    "    dlat = lat2 - lat1\n",
    "    dlon = lon2 - lon1\n",
    "\n",
    "    a = np.sin(dlat / 2.0)**2 + np.cos(lat1) * np.cos(lat2) * np.sin(dlon / 2.0)**2 #chatgpt helped for formula\n",
    "    c = 2 * np.arcsin(np.sqrt(a))\n",
    "    return R * c\n",
    "\n",
    "df['distance_km'] = haversine_distance(\n",
    "    df['pickup_latitude'],\n",
    "    df['pickup_longitude'],\n",
    "    df['dropoff_latitude'],\n",
    "    df['dropoff_longitude']\n",
    ")\n"
   ]
  },
  {
   "cell_type": "markdown",
   "id": "5e4467ab-5634-4c60-b100-7c1527aed618",
   "metadata": {},
   "source": [
    "The Haversine formula calculates the shortest distance between two points on a sphere using their latitudes and longitudes measured along the surface. It is important for use in navigation. The haversine can be expressed in trigonometric function as: \n",
    "haversine(\\theta)=sin^2\\Big(\\frac{\\theta}{2}\\Big)     \n",
    "The haversine of the central angle (which is d/r) is calculated by the following formula:\n",
    "\\largehaversine\\Big(\\frac{d}{r}\\Big)=haversine(\\Phi_2-\\Phi_1)+ cos(\\Phi_1)cos(\\Phi_2)haversine(\\lambda_2-\\lambda_1)     "
   ]
  },
  {
   "cell_type": "code",
   "execution_count": 19,
   "id": "e90a13b8-3455-456f-8df5-1714c4d1d1f9",
   "metadata": {},
   "outputs": [
    {
     "data": {
      "text/html": [
       "<div>\n",
       "<style scoped>\n",
       "    .dataframe tbody tr th:only-of-type {\n",
       "        vertical-align: middle;\n",
       "    }\n",
       "\n",
       "    .dataframe tbody tr th {\n",
       "        vertical-align: top;\n",
       "    }\n",
       "\n",
       "    .dataframe thead th {\n",
       "        text-align: right;\n",
       "    }\n",
       "</style>\n",
       "<table border=\"1\" class=\"dataframe\">\n",
       "  <thead>\n",
       "    <tr style=\"text-align: right;\">\n",
       "      <th></th>\n",
       "      <th>fare_amount</th>\n",
       "      <th>pickup_datetime</th>\n",
       "      <th>pickup_longitude</th>\n",
       "      <th>pickup_latitude</th>\n",
       "      <th>dropoff_longitude</th>\n",
       "      <th>dropoff_latitude</th>\n",
       "      <th>passenger_count</th>\n",
       "      <th>hour</th>\n",
       "      <th>day</th>\n",
       "      <th>month</th>\n",
       "      <th>day_of_week</th>\n",
       "      <th>is_weekend</th>\n",
       "      <th>distance_km</th>\n",
       "    </tr>\n",
       "  </thead>\n",
       "  <tbody>\n",
       "    <tr>\n",
       "      <th>0</th>\n",
       "      <td>4.5</td>\n",
       "      <td>2009-06-15 17:26:21+00:00</td>\n",
       "      <td>-73.844311</td>\n",
       "      <td>40.721319</td>\n",
       "      <td>-73.841610</td>\n",
       "      <td>40.712278</td>\n",
       "      <td>1</td>\n",
       "      <td>17</td>\n",
       "      <td>15</td>\n",
       "      <td>6</td>\n",
       "      <td>0</td>\n",
       "      <td>0</td>\n",
       "      <td>1.030764</td>\n",
       "    </tr>\n",
       "    <tr>\n",
       "      <th>1</th>\n",
       "      <td>16.9</td>\n",
       "      <td>2010-01-05 16:52:16+00:00</td>\n",
       "      <td>-74.016048</td>\n",
       "      <td>40.711303</td>\n",
       "      <td>-73.979268</td>\n",
       "      <td>40.782004</td>\n",
       "      <td>1</td>\n",
       "      <td>16</td>\n",
       "      <td>5</td>\n",
       "      <td>1</td>\n",
       "      <td>1</td>\n",
       "      <td>0</td>\n",
       "      <td>8.450134</td>\n",
       "    </tr>\n",
       "    <tr>\n",
       "      <th>2</th>\n",
       "      <td>5.7</td>\n",
       "      <td>2011-08-18 00:35:00+00:00</td>\n",
       "      <td>-73.982738</td>\n",
       "      <td>40.761270</td>\n",
       "      <td>-73.991242</td>\n",
       "      <td>40.750562</td>\n",
       "      <td>2</td>\n",
       "      <td>0</td>\n",
       "      <td>18</td>\n",
       "      <td>8</td>\n",
       "      <td>3</td>\n",
       "      <td>0</td>\n",
       "      <td>1.389525</td>\n",
       "    </tr>\n",
       "    <tr>\n",
       "      <th>3</th>\n",
       "      <td>7.7</td>\n",
       "      <td>2012-04-21 04:30:42+00:00</td>\n",
       "      <td>-73.987130</td>\n",
       "      <td>40.733143</td>\n",
       "      <td>-73.991567</td>\n",
       "      <td>40.758092</td>\n",
       "      <td>1</td>\n",
       "      <td>4</td>\n",
       "      <td>21</td>\n",
       "      <td>4</td>\n",
       "      <td>5</td>\n",
       "      <td>1</td>\n",
       "      <td>2.799270</td>\n",
       "    </tr>\n",
       "    <tr>\n",
       "      <th>4</th>\n",
       "      <td>5.3</td>\n",
       "      <td>2010-03-09 07:51:00+00:00</td>\n",
       "      <td>-73.968095</td>\n",
       "      <td>40.768008</td>\n",
       "      <td>-73.956655</td>\n",
       "      <td>40.783762</td>\n",
       "      <td>1</td>\n",
       "      <td>7</td>\n",
       "      <td>9</td>\n",
       "      <td>3</td>\n",
       "      <td>1</td>\n",
       "      <td>0</td>\n",
       "      <td>1.999157</td>\n",
       "    </tr>\n",
       "  </tbody>\n",
       "</table>\n",
       "</div>"
      ],
      "text/plain": [
       "   fare_amount           pickup_datetime  pickup_longitude  pickup_latitude  \\\n",
       "0          4.5 2009-06-15 17:26:21+00:00        -73.844311        40.721319   \n",
       "1         16.9 2010-01-05 16:52:16+00:00        -74.016048        40.711303   \n",
       "2          5.7 2011-08-18 00:35:00+00:00        -73.982738        40.761270   \n",
       "3          7.7 2012-04-21 04:30:42+00:00        -73.987130        40.733143   \n",
       "4          5.3 2010-03-09 07:51:00+00:00        -73.968095        40.768008   \n",
       "\n",
       "   dropoff_longitude  dropoff_latitude  passenger_count  hour  day  month  \\\n",
       "0         -73.841610         40.712278                1    17   15      6   \n",
       "1         -73.979268         40.782004                1    16    5      1   \n",
       "2         -73.991242         40.750562                2     0   18      8   \n",
       "3         -73.991567         40.758092                1     4   21      4   \n",
       "4         -73.956655         40.783762                1     7    9      3   \n",
       "\n",
       "   day_of_week  is_weekend  distance_km  \n",
       "0            0           0     1.030764  \n",
       "1            1           0     8.450134  \n",
       "2            3           0     1.389525  \n",
       "3            5           1     2.799270  \n",
       "4            1           0     1.999157  "
      ]
     },
     "execution_count": 19,
     "metadata": {},
     "output_type": "execute_result"
    }
   ],
   "source": [
    "df.head()"
   ]
  },
  {
   "cell_type": "markdown",
   "id": "34e916f4-d21f-44ee-aa1e-9846adab721b",
   "metadata": {},
   "source": [
    "removeing distance less than 0.1"
   ]
  },
  {
   "cell_type": "code",
   "execution_count": 21,
   "id": "83e573d1-16be-4af1-bd69-ed4fbe13a7ff",
   "metadata": {},
   "outputs": [],
   "source": [
    "df = df[df['distance_km'] > 0.1]"
   ]
  },
  {
   "cell_type": "code",
   "execution_count": 22,
   "id": "79134ba7-a12f-4bc5-97c4-5815cdfb92bf",
   "metadata": {},
   "outputs": [],
   "source": [
    "df.to_csv(r'C:\\Users\\himan\\OneDrive\\Desktop\\Taxi-Fare-Prediciton\\data\\featured_data.csv', index=False)\n"
   ]
  },
  {
   "cell_type": "markdown",
   "id": "0fe8c6a7-01e2-4f08-ac48-bde7096b992b",
   "metadata": {},
   "source": [
    "#traning model"
   ]
  },
  {
   "cell_type": "code",
   "execution_count": 24,
   "id": "5f1882c0-65e5-456a-b890-d79f803e7c0b",
   "metadata": {},
   "outputs": [],
   "source": [
    "\n",
    "df = pd.read_csv(r'C:\\Users\\himan\\OneDrive\\Desktop\\Taxi-Fare-Prediciton\\data\\featured_data.csv')\n",
    "\n",
    "# Features and Target\n",
    "features = ['passenger_count', 'hour', 'day', 'month', 'day_of_week', 'is_weekend', 'distance_km']\n",
    "X = df[features]\n",
    "y = df['fare_amount']\n",
    "\n",
    "# Train-test split\n",
    "X_train, X_test, y_train, y_test = train_test_split(X, y, test_size=0.2, random_state=42)\n"
   ]
  },
  {
   "cell_type": "code",
   "execution_count": 25,
   "id": "70e25609-2a44-4f9a-8e25-20cc97e11fc5",
   "metadata": {},
   "outputs": [
    {
     "name": "stdout",
     "output_type": "stream",
     "text": [
      "Linear Regression RMSE: 4.15\n"
     ]
    },
    {
     "name": "stderr",
     "output_type": "stream",
     "text": [
      "C:\\Users\\himan\\anaconda3\\Lib\\site-packages\\sklearn\\metrics\\_regression.py:492: FutureWarning: 'squared' is deprecated in version 1.4 and will be removed in 1.6. To calculate the root mean squared error, use the function'root_mean_squared_error'.\n",
      "  warnings.warn(\n"
     ]
    }
   ],
   "source": [
    "from sklearn.linear_model import LinearRegression\n",
    "from sklearn.metrics import mean_squared_error\n",
    "\n",
    "Linear = LinearRegression()\n",
    "Linear.fit(X_train, y_train) \n",
    "y_pred_linear = Linear.predict(X_test)\n",
    "\n",
    "rmse_lr = mean_squared_error(y_test, y_pred_linear, squared=False)\n",
    "print(f\"Linear Regression RMSE: {rmse_lr:.2f}\")\n"
   ]
  },
  {
   "cell_type": "code",
   "execution_count": 26,
   "id": "4a5881af-de96-47d2-900d-3ef12f1d5e2b",
   "metadata": {},
   "outputs": [
    {
     "name": "stdout",
     "output_type": "stream",
     "text": [
      "Starting model training...\n",
      "Fitting 3 folds for each of 8 candidates, totalling 24 fits\n",
      "Random Forest RMSE: 4.01\n",
      "Best Parameters: {'max_depth': 10, 'min_samples_split': 5, 'n_estimators': 50}\n"
     ]
    },
    {
     "name": "stderr",
     "output_type": "stream",
     "text": [
      "C:\\Users\\himan\\anaconda3\\Lib\\site-packages\\sklearn\\metrics\\_regression.py:492: FutureWarning: 'squared' is deprecated in version 1.4 and will be removed in 1.6. To calculate the root mean squared error, use the function'root_mean_squared_error'.\n",
      "  warnings.warn(\n"
     ]
    }
   ],
   "source": [
    "rf = RandomForestRegressor(random_state=42)\n",
    "\n",
    "param_grid = {\n",
    "    'n_estimators': [10, 50],\n",
    "    'max_depth': [10, 20],\n",
    "    'min_samples_split': [2, 5]\n",
    "}\n",
    "\n",
    "grid_search = GridSearchCV( estimator=rf, param_grid=param_grid,\n",
    "    cv=3,\n",
    "    n_jobs=-1,\n",
    "    scoring='neg_root_mean_squared_error',\n",
    "    verbose=1\n",
    ")\n",
    "\n",
    "print(\"Starting model training...\")\n",
    "\n",
    "grid_search.fit(X_train, y_train)\n",
    "\n",
    "best_rf = grid_search.best_estimator_\n",
    "\n",
    "\n",
    "y_pred_rf = best_rf.predict(X_test)\n",
    "rmse_rf = mean_squared_error(y_test, y_pred_rf, squared=False)\n",
    "\n",
    "print(f\"Random Forest RMSE: {rmse_rf:.2f}\")\n",
    "print(f\"Best Parameters: {grid_search.best_params_}\")\n"
   ]
  },
  {
   "cell_type": "code",
   "execution_count": 33,
   "id": "2b62e02a-e7fb-4900-9e9d-75a3c372162f",
   "metadata": {},
   "outputs": [
    {
     "name": "stdout",
     "output_type": "stream",
     "text": [
      "Model saved successfully.\n"
     ]
    }
   ],
   "source": [
    "import joblib\n",
    "joblib.dump(best_rf, r'C:\\Users\\himan\\OneDrive\\Desktop\\Taxi-Fare-Prediciton\\models\\random_forest_model.pkl')\n",
    "print(\"Model saved successfully.\")"
   ]
  },
  {
   "cell_type": "code",
   "execution_count": 39,
   "id": "f5304870-0724-48b9-9b5a-4172746e2b25",
   "metadata": {},
   "outputs": [],
   "source": [
    "# Load the model from file\n",
    "loaded_model = joblib.load(r'C:\\Users\\himan\\OneDrive\\Desktop\\Taxi-Fare-Prediciton\\models\\random_forest_model.pkl')\n",
    "\n",
    "# Use it for prediction\n",
    "y_pred_loaded = loaded_model.predict(X_test)\n"
   ]
  },
  {
   "cell_type": "code",
   "execution_count": 41,
   "id": "3aa157a0-e8dc-41e5-97c4-00f9335f2c30",
   "metadata": {
    "scrolled": true
   },
   "outputs": [
    {
     "name": "stdout",
     "output_type": "stream",
     "text": [
      "Random Forest RMSE: 4.01\n"
     ]
    },
    {
     "name": "stderr",
     "output_type": "stream",
     "text": [
      "C:\\Users\\himan\\anaconda3\\Lib\\site-packages\\sklearn\\metrics\\_regression.py:492: FutureWarning: 'squared' is deprecated in version 1.4 and will be removed in 1.6. To calculate the root mean squared error, use the function'root_mean_squared_error'.\n",
      "  warnings.warn(\n"
     ]
    }
   ],
   "source": [
    "from sklearn.metrics import mean_squared_error\n",
    "\n",
    "rmse_rf = mean_squared_error(y_test, y_pred_rf, squared=False)\n",
    "print(f\"Random Forest RMSE: {rmse_rf:.2f}\")\n"
   ]
  },
  {
   "cell_type": "code",
   "execution_count": 54,
   "id": "5b513746-2312-4c31-b40a-e2c66e2191f1",
   "metadata": {},
   "outputs": [
    {
     "name": "stdout",
     "output_type": "stream",
     "text": [
      "[4.5, 16.9, 5.7, 7.7, 5.3, 12.1, 7.5, 16.5, 9.0, 8.9, 4.1, 7.0, 12.5, 4.0, 10.5, 11.5, 4.9, 6.1, 7.3, 9.3, 5.5, 22.54, 31.9, 18.1, 58.0, 9.8, 8.1, 10.9, 17.5, 6.9, 3.3, 9.7, 8.0, 25.5, 15.3, 34.67, 13.7, 6.5, 5.0, 8.5, 3.7, 10.1, 15.07, 24.9, 17.0, 12.0, 11.0, 13.5, 14.0, 10.0, 14.1, 11.3, 12.9, 9.5, 35.0, 14.5, 32.5, 17.7, 19.0, 49.57, 22.5, 52.5, 16.0, 17.3, 21.5, 14.9, 35.5, 11.7, 23.0, 24.5, 6.0, 27.0, 16.1, 15.7, 26.9, 42.5, 15.5, 30.9, 6.7, 13.0, 18.0, 25.3, 57.33, 26.67, 25.0, 43.5, 8.7, 20.5, 52.83, 20.0, 26.5, 10.6, 18.5, 34.0, 23.5, 20.33, 33.07, 36.5, 33.83, 25.7, 29.0, 21.0, 32.9, 15.0, 49.8, 13.3, 56.8, 22.0, 24.0, 28.0, 38.5, 3.0, 38.8, 38.1, 52.0, 2.9, 38.83, 28.5, 66.3, 3.5, 19.7, 38.33, 18.9, 45.0, 31.2, 34.1, 35.07, 28.1, 23.7, 31.83, 25.450000000000003, 6.6, 53.0, 30.83, 31.5, 22.1, 29.3, 6.3, 49.15, 30.8, 36.1, 19.3, 9.4, 24.1, 14.7, 54.0, 6.2, 20.7, 31.87, 40.33, 29.5, 33.0, 20.9, 27.1, 48.33, 19.5, 32.83, 43.0, 30.1, 39.7, 28.27, 40.83, 55.83, 43.54, 21.7, 29.7, 31.7, 4.6, 30.5, 33.7, 40.1, 29.6, 33.33, 30.0, 65.5, 18.35, 26.27, 32.4, 21.3, 36.33, 46.0, 28.8, 26.8, 25.83, 77.0, 30.4, 20.1, 14.2, 23.3, 39.87, 29.47, 39.33, 34.9, 35.83, 57.54, 29.83, 27.07, 31.8, 5.8, 28.67, 58.6, 15.4, 32.1, 45.3, 50.0, 37.0, 33.8, 79.0, 26.7, 4.2, 7.9, 0.01, 30.67, 42.33, 17.9, 31.450000000000003, 8.2, 3.8, 27.83, 55.25, 33.3, 31.3, 42.0, 32.05, 5.4, 23.47, 40.27, 12.7, 11.4, 39.5, 35.2, 28.54, 41.33, 31.47, 22.9, 2.5, 46.33, 41.3, 35.33, 24.2, 34.33, 26.0, 32.67, 27.47, 29.33, 25.2, 37.54, 12.6, 28.04, 24.27, 10.2, 63.0, 22.27, 77.7, 29.8, 31.85, 69.7, 26.1, 30.04, 27.7, 32.33, 53.3, 50.1, 35.3, 32.0, 37.47, 49.5, 31.0, 48.04, 33.870000000000005, 9.1, 85.5, 37.87, 25.85, 55.0, 28.9, 36.0, 33.5, 52.9, 7.8, 30.27, 33.47, 30.33, 36.04, 20.83, 51.1, 7.4, 40.0, 25.47, 39.83, 43.33, 34.83, 12.3, 37.07, 21.33, 11.8, 37.5, 19.33, 27.5, 29.450000000000003, 44.83, 57.0, 35.8, 44.33, 29.4, 27.3, 35.47, 30.3, 33.29, 40.54, 22.83, 32.8, 38.3, 37.04, 76.8, 11.9, 55.5, 56.5, 25.8, 38.9, 31.33, 50.5, 51.33, 44.1, 26.33, 37.33, 22.33, 8.3, 5.9, 59.1, 51.5, 39.44, 48.1, 95.0, 7.1, 41.0, 34.5, 32.25, 41.5, 76.0, 16.2, 28.25, 45.5, 54.61, 42.83, 31.05, 34.27, 26.83, 20.27, 21.54, 39.0, 12.2, 88.0, 27.87, 44.5, 15.8, 63.5, 40.04, 37.53, 25.07, 52.33, 47.83, 87.3, 57.1, 49.83, 43.83, 25.05, 31.07, 33.04, 37.3, 26.3, 50.83, 75.33, 45.83, 32.27, 28.33, 45.33, 39.3, 41.8, 59.5, 51.7, 43.8, 28.65, 53.1, 48.9, 37.83, 39.04, 24.67, 40.5, 36.83, 35.85, 48.27, 31.54, 41.83, 61.04, 80.75, 36.9, 87.0, 52.1, 44.8, 8.6, 34.3, 54.1, 32.3, 35.7, 34.8, 43.7, 29.07, 10.3, 19.8, 28.83, 37.7, 75.0, 19.9, 47.8, 11.1, 31.04, 77.15, 20.2, 108.0, 26.54, 25.33, 18.33, 82.5, 42.67, 41.04, 10.7, 12.67, 19.47, 48.0, 73.3, 57.83, 33.54, 4.7, 40.8, 34.44, 48.67, 30.2, 25.87, 38.0, 47.04, 48.3, 42.54, 41.87, 78.0, 49.0, 71.1, 35.44, 48.83, 61.6, 13.85, 23.87, 14.8, 51.0, 61.25, 36.3, 47.5, 26.65, 25.9, 27.54, 62.3, 76.75, 16.3, 80.35, 27.33, 63.1, 18.2, 16.83, 46.5, 65.0, 13.1, 13.9, 32.2, 25.04, 67.4, 53.5, 71.0, 36.67, 61.9, 24.6, 38.54, 61.5, 40.9, 44.27, 28.05, 27.94, 63.83, 37.8, 26.25, 36.27, 52.4, 63.16, 47.0, 60.0, 26.6, 29.87, 25.39, 14.27, 38.27, 76.5, 27.8, 44.9, 42.04, 50.67, 32.85, 19.4, 23.33, 13.4, 135.0, 70.2, 23.4, 35.6, 30.65, 38.67, 18.83, 17.8, 28.3, 43.3, 51.3, 24.25, 55.1, 58.9, 45.45, 9.9, 27.9, 46.83, 23.950000000000003, 49.04, 68.3, 6.65, 19.83, 15.87, 22.7, 54.83, 47.33, 73.5, 42.9, 44.54, 49.54, 78.5, 34.45, 42.1, 41.7, 19.05, 27.6, 36.65, 53.07, 21.47, 66.54, 24.59, 27.450000000000003, 60.3, 96.0, 78.6, 62.66, 22.67, 58.5, 45.07, 69.24000000000001, 49.33, 41.47, 36.8, 20.6, 55.7, 61.1, 24.04, 29.85, 14.6, 64.3, 22.65, 96.25, 54.5, 61.83, 44.0, 55.3, 45.8, 32.97, 5.1, 75.25, 43.85, 74.0, 61.0, 13.07, 53.83, 38.59, 56.0, 23.79, 43.6, 58.83, 93.75, 13.54, 84.5, 4.3, 89.9, 91.0, 47.7, 25.4, 39.54, 68.0, 18.4, 47.54, 63.7, 43.04, 72.6, 54.6, 11.65, 44.04, 32.54, 61.8, 17.83, 18.27, 32.59, 13.47, 39.8, 22.04, 43.47, 21.07, 34.54, 13.8, 35.870000000000005, 14.3, 67.25, 56.7, 82.57, 56.3, 58.3, 55.8, 54.33, 39.07, 16.6, 88.25, 27.2, 66.0, 32.04, 165.0, 45.04, 46.8, 46.9, 57.2, 34.19, 49.3, 21.83, 16.7, 46.1, 22.8, 86.75, 103.0, 74.5, 74.1, 67.24000000000001, 90.5, 28.26, 42.8, 37.16, 23.8, 21.8, 38.04, 32.65, 49.35, 80.5, 19.04, 30.54, 51.83, 51.54, 50.33, 52.7, 33.6, 66.7, 31.55, 27.05, 16.05, 41.07, 112.0, 40.67, 33.95, 25.1, 18.6, 29.05, 78.58, 16.67, 47.07, 59.0, 48.5, 22.25, 24.65, 75.75, 3.9, 46.04, 42.44, 72.5, 60.05, 149.0, 55.04, 65.9, 23.07, 19.87, 35.54, 33.2, 59.33, 28.4, 51.6, 56.27, 67.5, 27.4, 21.87, 29.2, 36.54, 31.1, 76.25, 59.87, 19.450000000000003, 69.0, 29.04, 50.3, 16.8, 136.32999999999998, 79.75, 20.67, 45.7, 52.8, 24.83, 18.7, 26.99, 160.0, 83.25, 57.5, 32.7, 37.1, 63.24, 36.4, 20.3, 54.57, 81.2, 33.05, 41.6, 67.33, 69.3, 73.25, 61.7, 14.16, 70.5, 53.33, 30.94, 64.0, 68.83, 50.4, 45.85, 132.0, 71.5, 31.4, 85.0, 19.1, 18.99, 27.04, 28.2, 19.07, 49.7, 35.94, 33.85, 68.8, 60.5, 7.07, 64.9, 29.9, 22.6, 70.33, 11.45, 4.09, 58.7, 97.25, 42.65, 92.54, 7.83, 63.33, 18.3, 61.33, 26.2, 52.3, 59.7, 35.04, 30.6, 47.3, 17.33, 13.55, 38.16, 34.04, 37.85, 40.65, 37.45, 27.85, 69.75, 42.75, 90.0, 71.65, 46.54, 42.6, 44.16, 80.25, 12.27, 2.51, 150.0, 55.9, 27.950000000000003, 23.85, 15.33, 39.47, 29.950000000000003, 49.79, 17.64, 102.5, 58.8, 127.0, 23.9, 24.54, 20.25, 19.44, 25.54, 43.44, 106.0, 61.87, 60.7, 22.22, 17.79, 41.1, 62.0, 84.1, 28.450000000000003, 17.07, 7.6, 33.39, 24.8, 50.04, 58.66, 79.33, 34.65, 45.16, 29.1, 52.99, 60.67, 78.7, 53.8, 44.3, 48.54, 28.6, 39.66, 30.450000000000003, 23.83, 53.6, 50.35, 145.58, 21.04, 55.75, 76.3, 84.6, 86.33, 41.44, 82.75, 87.5, 31.6, 145.82999999999998, 70.3, 83.1, 15.83, 21.79, 64.1, 13.2, 64.4, 62.33, 37.6, 3.4, 54.3, 66.2, 62.25, 88.58, 65.6, 20.04, 26.4, 60.33, 34.6, 17.450000000000003, 16.33, 8.65, 123.33, 69.5, 62.84, 42.27, 70.69999999999999, 62.99, 49.41, 75.5, 53.66, 55.55, 72.0, 100.0, 70.9, 81.25, 71.33, 57.04, 33.45, 50.9, 63.54, 83.5, 78.25, 67.0, 51.04, 43.2, 38.4, 51.07, 57.87, 83.0, 28.19, 71.3, 119.83, 139.6, 17.85, 43.87, 22.3, 32.94, 24.75, 63.3, 67.6, 42.3, 57.3, 61.75, 26.44, 77.4, 41.54, 24.3, 15.47, 49.47, 18.54, 96.9, 54.44, 36.2, 126.08, 65.1, 40.3, 66.83, 54.4, 15.1, 23.450000000000003, 53.9, 65.3, 21.65, 62.7, 39.45, 52.04, 110.33, 70.25, 86.5, 56.33, 17.4, 14.65, 45.02, 63.9, 18.65, 9.69, 34.4, 38.44, 86.0, 54.9, 66.5, 21.39, 62.67, 60.9, 64.7, 70.0, 71.75, 98.83, 39.85, 17.39, 32.6, 48.2, 80.0, 81.7, 17.47, 89.5, 61.3, 46.3, 36.84, 40.94, 77.55, 118.5, 60.61, 87.25, 109.5, 127.16, 67.07, 21.4, 45.54, 68.16, 52.75, 56.44, 68.33, 41.94, 55.33, 65.25, 16.89, 68.7, 4.94, 64.8, 22.2, 79.7, 23.6, 56.39, 43.1, 53.54, 24.33, 255.0, 64.5, 33.25, 99.0, 58.1, 30.35, 64.57, 26.04, 35.45, 51.8, 57.7, 21.2, 40.25, 66.58, 98.65, 63.66, 68.25, 30.7, 71.25, 59.3, 54.27, 23.05, 84.0, 18.67, 50.65, 31.39, 49.45, 33.94, 74.7, 72.25, 33.1, 20.8, 64.6, 49.9, 54.49, 39.2, 34.2, 65.7, 78.65, 19.85, 105.33, 53.7, 81.0, 67.7, 57.58, 58.54, 33.4, 79.55, 34.94, 77.99, 16.35, 73.0, 117.29, 30.99, 43.9, 49.66, 24.35, 37.05, 86.3, 17.1, 30.25, 89.75, 57.07, 44.67, 89.33, 94.57, 120.0, 54.04, 16.27, 44.6, 83.75, 81.85, 36.85, 82.0, 85.75, 46.67, 17.54, 52.6, 59.83, 62.6, 36.44, 89.0, 37.94, 21.950000000000003, 44.65, 111.9, 91.5, 74.75, 15.45, 45.47, 29.15, 76.6, 11.83, 50.54, 60.6, 63.4, 49.44, 54.84, 15.2, 109.83, 104.8, 34.7, 70.8, 92.0, 27.15, 118.3, 68.75, 29.54, 42.25, 49.6, 42.2, 33.79, 85.25, 39.05, 40.66, 39.1, 98.0, 35.4, 80.4, 45.87, 39.6, 53.04, 139.5, 15.05, 38.2, 44.88, 53.25, 103.5, 123.58, 36.6, 17.6, 37.44, 18.75, 69.8, 23.2, 35.55, 60.2, 36.25, 64.16, 35.05, 15.9, 48.65, 32.75, 62.1, 42.99, 33.9, 59.75, 28.7, 21.1, 31.57, 25.34, 45.2, 24.99, 38.25, 69.9, 30.79, 25.6, 93.5, 65.33, 56.75, 64.25, 48.44, 69.25, 59.66, 50.8, 44.7, 125.5, 201.0, 61.79, 34.25, 67.9, 56.83, 121.33, 75.24, 12.25, 41.85, 55.87, 79.00999999999999, 75.7, 57.9, 18.44, 90.95, 450.0, 119.3, 99.3, 79.5, 54.75, 66.33, 14.67, 62.83, 69.6, 105.08, 65.8, 42.05, 77.75, 140.0, 112.5, 67.1, 4.57, 80.1, 60.25, 48.8, 18.04, 54.67, 57.57, 21.05, 21.9, 19.54, 40.6, 84.87, 95.9, 69.15, 17.87, 200.0, 24.94, 74.57, 62.16, 47.16, 70.83, 36.7, 57.47, 60.75, 63.25, 122.3, 155.33, 138.3, 48.49, 81.75, 73.66, 41.9, 127.8, 16.68, 47.6, 30.66, 62.5, 63.75, 104.5, 75.45, 54.7, 59.47, 55.01, 36.45, 50.25, 98.75, 96.75, 72.16, 63.6, 72.83, 21.450000000000003, 44.57, 43.05, 90.25, 5.31, 47.1, 46.84, 23.94, 99.75, 7.25, 56.9, 62.04, 35.9, 18.8, 78.83, 35.1, 109.87, 16.25, 48.25, 56.04, 120.8, 54.14, 14.05, 42.66, 60.66, 66.67, 79.83, 14.83, 31.81, 13.83, 54.54, 93.8, 93.33, 65.16, 91.25, 80.33, 20.59, 19.15, 79.25, 24.7, 152.9, 53.47, 105.25, 86.15, 22.44, 75.3, 84.25, 105.0, 90.75, 21.18, 62.44, 94.2, 94.33, 129.98, 80.7, 49.75, 23.15, 161.54, 62.39, 32.300000000000004, 67.75, 40.44, 34.59, 80.16, 56.1, 37.9, 50.7, 71.45, 39.25, 31.950000000000003, 73.05, 62.75, 112.58, 102.3, 58.27, 45.05, 28.85, 82.83, 41.4, 69.1, 33.44, 43.94, 23.04, 4.11, 65.75, 18.25, 73.75, 50.55, 30.19, 106.83, 99.5, 33.480000000000004, 113.25, 15.54, 77.98, 56.54, 39.57, 64.2, 94.0, 96.5, 90.99, 17.2, 66.03999999999999, 73.83, 73.7, 16.65, 122.0, 150.5, 77.25, 22.59, 61.67, 14.33, 73.1, 86.25, 46.75, 144.41, 157.0, 20.65, 60.99, 105.5, 17.15, 32.35, 38.6, 250.0, 46.27, 13.45, 61.4, 101.75, 81.66, 59.9, 50.15, 60.85, 81.33, 28.75, 77.5, 32.989999999999995, 13.33, 110.0, 76.9, 11.87, 84.57, 146.9, 28.59, 51.47, 43.4, 30.44, 64.33, 109.3, 133.0, 25.55, 106.75, 65.32, 15.04, 70.7, 45.9, 96.07, 43.45, 76.16, 29.44, 72.33, 61.07, 66.9, 30.85, 73.9, 58.25, 36.55, 75.47, 53.87, 51.9, 58.75, 70.99, 52.2, 47.85, 46.38, 27.44, 167.0, 95.3, 82.33, 70.6, 78.33, 50.07, 64.49, 81.5, 58.65, 17.05, 14.25, 81.47, 82.25, 43.07, 25.950000000000003, 22.19, 8.33, 72.2, 32.68, 70.1, 42.4, 26.19, 114.3, 45.55, 25.15, 22.94, 49.2, 22.89, 98.25, 86.04, 13.65, 17.75, 122.1, 23.24, 75.9, 87.2, 116.33, 60.83, 68.5, 31.79, 109.58, 44.58, 27.55, 32.44, 63.07, 67.99, 31.44, 197.0, 115.0, 36.35, 129.5, 59.8, 66.25, 87.9, 92.57, 16.04, 175.0, 92.75, 144.08, 11.47, 15.65, 68.4, 21.6, 26.450000000000003, 64.75, 50.650000000000006, 12.65, 67.54, 49.25, 161.0, 39.16, 20.99, 54.650000000000006, 36.94, 11.85, 23.1, 79.08, 26.35, 59.54, 29.94, 13.87, 80.9, 58.04, 67.39999999999999, 70.10000000000001, 59.24, 107.7, 44.05, 37.25, 33.66, 44.75, 25.94, 64.83, 58.33, 31.25, 21.85, 78.75, 55.54, 12.33, 41.66, 12.64, 83.83, 40.7, 68.1, 50.27, 41.95, 85.83, 73.8, 27.25, 72.9, 59.900000000000006, 100.5, 26.75, 54.8, 77.6, 33.24, 82.95, 74.54, 39.24, 92.25, 104.4, 68.89999999999999, 64.10000000000001, 87.8, 78.47, 71.54, 41.2, 68.57, 45.58, 70.75, 71.7, 37.08, 10.27, 72.66, 128.9, 47.47, 12.54, 34.57, 66.75, 19.55, 77.8, 78.85, 65.83, 69.33, 51.66, 88.5, 83.91, 47.64, 111.25, 47.05, 28.94, 144.3, 52.94, 49.1, 33.16, 47.87, 70.04, 28.44, 17.04, 80.65, 34.300000000000004, 69.99, 38.65, 51.45, 75.15, 9.75, 32.19, 29.57, 56.2, 7.2, 29.39, 45.6, 38.88, 30.05, 12.94, 37.2, 6.11, 111.33, 27.79, 88.83, 33.65, 102.0, 68.6, 14.35, 131.32999999999998, 84.2, 136.66, 65.2, 64.54, 69.83, 37.4, 69.07, 41.05, 9.07, 92.5, 37.900000000000006, 9.83, 69.36, 92.83, 22.4, 89.1, 10.33, 21.55, 11.05, 59.4, 65.54, 45.25, 32.55, 66.1, 106.1, 100.25, 207.05, 74.25, 128.33, 81.83, 71.9, 31.29, 12.83, 26.85, 169.33, 124.5, 49.85, 73.4, 84.07, 46.6, 19.79, 72.1, 87.66, 14.11, 20.54, 62.2, 14.04, 56.760000000000005, 93.2, 189.5, 52.77, 68.9, 54.25, 79.4, 66.6, 63.99, 79.2, 129.0, 203.5, 81.44, 73.03999999999998, 49.87, 96.3, 79.1, 26.87, 9.6, 68.64, 39.55, 49.16, 39.9, 43.95, 73.33, 159.0, 25.44, 61.44, 30.75, 35.16, 60.1, 61.99, 36.66, 73.87, 38.75, 84.95, 131.75, 63.85, 137.0, 198.58, 111.75, 15.85, 88.75, 47.99, 76.55, 52.54, 62.9, 124.15, 14.14, 6.05, 32.45, 46.65, 28.99, 68.44, 72.75, 63.8, 92.9, 35.95, 61.54, 57.03, 84.83, 6.98, 11.07, 110.25, 81.65, 2.6, 28.03, 86.1, 55.07, 4.33, 64.66, 75.83, 79.99, 63.400000000000006, 145.25, 60.21, 36.59, 13.05, 28.35, 93.81, 18.05, 49.4, 61.27, 51.01, 27.39, 63.900000000000006, 89.85, 76.2, 44.66, 83.85, 98.58, 24.450000000000003, 64.00999999999999, 54.65, 35.39, 35.66, 111.0, 134.0, 112.8, 140.66, 23.54, 49.58, 43.010000000000005, 36.19, 25.65, 95.66, 76.66, 17.55, 33.55, 47.9, 22.99, 34.85, 90.1, 72.8, 84.85, 78.1, 83.08, 55.35, 85.7, 48.85, 49.89, 21.44, 20.4, 65.66, 71.4, 79.3, 81.54, 12.4, 95.8, 91.3, 74.08, 5.6, 39.94, 97.0, 89.57, 11.75, 104.0, 57.8, 68.19, 83.9, 109.0, 44.25, 34.989999999999995, 130.0, 45.41, 145.0, 66.04, 20.19, 23.39, 67.3, 51.64, 115.33, 111.7, 89.55, 10.54, 66.94, 74.2, 85.3, 101.33, 19.14, 14.91, 95.95, 73.6, 31.700000000000003, 180.0, 36.75, 42.84, 104.75, 75.1, 24.4, 41.39, 135.57, 60.54, 10.25, 24.85, 16.54, 29.55, 92.33, 18.19, 44.94, 48.6, 157.48, 51.94, 7.699999999999998, 90.2, 72.7, 121.0, 74.9, 51.05, 61.81, 96.57, 36.95, 51.2, 33.64, 19.950000000000003, 38.94, 32.84, 61.47, 77.9, 18.89, 71.49, 11.6, 24.26, 19.2, 100.7, 91.49, 114.83, 122.16, 70.16, 84.75, 17.29, 77.83, 47.75, 68.2, 195.29, 58.49, 45.64, 101.0, 40.75, 78.66, 59.44, 38.85, 11.2, 166.57999999999998, 100.66, 87.54, 145.3, 69.49, 91.75, 100.83, 41.25, 93.0, 19.65, 102.2, 65.67, 57.64, 135.66, 60.49, 77.3, 101.6, 63.02, 9.2, 144.0, 103.1, 70.54, 65.85000000000001, 154.8, 27.65, 7.85, 57.22, 90.4, 72.3, 107.3, 79.16, 70.58, 5.2, 20.110000000000003, 91.7, 29.64, 76.7, 17.08, 67.83, 57.16, 105.3, 80.83, 71.99, 74.3, 65.4, 89.6, 55.47, 101.58, 68.54, 59.57, 52.08, 82.65, 43.39, 65.99, 101.3, 85.38, 59.25, 24.19, 99.57, 120.33, 114.58, 38.45, 76.99, 30.59, 14.94, 39.58, 38.7, 25.79, 16.21, 84.9, 56.55, 59.64, 77.35, 19.6, 39.4, 76.83, 46.58]\n"
     ]
    }
   ],
   "source": [
    "u = df['fare_amount'].unique().tolist()\n",
    "print(u)"
   ]
  },
  {
   "cell_type": "code",
   "execution_count": 66,
   "id": "ff14095e-2978-4051-8697-d85c02d887ad",
   "metadata": {},
   "outputs": [
    {
     "name": "stdout",
     "output_type": "stream",
     "text": [
      "Exported Power BI data to powerbi_predictions.csv\n"
     ]
    }
   ],
   "source": [
    "df_results = X_test.copy()\n",
    "df_results['actual_fare'] = y_test.values\n",
    "df_results['predicted_fare'] = y_pred_rf\n",
    "\n",
    "# Save for Power BI\n",
    "df_results.to_csv(r'C:\\Users\\himan\\OneDrive\\Desktop\\Taxi-Fare-Prediciton\\data\\powerbi_predictions.csv', index=False)\n",
    "print(\"Exported Power BI data to powerbi_predictions.csv\")\n"
   ]
  },
  {
   "cell_type": "code",
   "execution_count": null,
   "id": "73199ce0-7c8f-48f2-aa88-be91a37fc92f",
   "metadata": {},
   "outputs": [],
   "source": []
  }
 ],
 "metadata": {
  "kernelspec": {
   "display_name": "Python [conda env:base] *",
   "language": "python",
   "name": "conda-base-py"
  },
  "language_info": {
   "codemirror_mode": {
    "name": "ipython",
    "version": 3
   },
   "file_extension": ".py",
   "mimetype": "text/x-python",
   "name": "python",
   "nbconvert_exporter": "python",
   "pygments_lexer": "ipython3",
   "version": "3.12.7"
  }
 },
 "nbformat": 4,
 "nbformat_minor": 5
}
